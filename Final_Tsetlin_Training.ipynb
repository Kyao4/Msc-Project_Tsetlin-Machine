{
 "cells": [
  {
   "cell_type": "code",
   "execution_count": 1,
   "id": "db0980a9-8035-4b95-934b-f6746f6a3a43",
   "metadata": {},
   "outputs": [
    {
     "name": "stdout",
     "output_type": "stream",
     "text": [
      "Correct Path: ./cut_chars\n"
     ]
    }
   ],
   "source": [
    "import os\n",
    "import cv2\n",
    "import numpy as np\n",
    "from sklearn.model_selection import train_test_split\n",
    "from sklearn.preprocessing import LabelEncoder\n",
    "from time import time\n",
    "import pickle\n",
    "\n",
    "# dataset path check\n",
    "dataset_path = './cut_chars'\n",
    "if not os.path.exists(dataset_path):\n",
    "    print(f\"Wrong Path: {dataset_path}\")\n",
    "else:\n",
    "    print(f\"Correct Path: {dataset_path}\")\n",
    "\n",
    "data = []\n",
    "labels = []"
   ]
  },
  {
   "cell_type": "code",
   "execution_count": 2,
   "id": "c718d887",
   "metadata": {},
   "outputs": [],
   "source": [
    "# Collect labels\n",
    "for root, dirs, files in os.walk(dataset_path):\n",
    "    folder_name = os.path.basename(root)\n",
    "    #print(f\"Processing folder: {folder_name}, Number of files: {len(files)}\")\n",
    "    \n",
    "    # skip empty files\n",
    "    if len(files) == 0:\n",
    "        continue\n",
    "    \n",
    "    # use folder names as the labels\n",
    "    label = folder_name\n",
    "    \n",
    "    # fit label for every images\n",
    "    for filename in files:\n",
    "        filepath = os.path.join(root, filename) # join the path\n",
    "\n",
    "        \n",
    "        # grayscale processing\n",
    "        image = cv2.imread(filepath, cv2.IMREAD_GRAYSCALE)\n",
    "        \n",
    "        # resize image\n",
    "        image = cv2.resize(image, (28, 28))\n",
    "\n",
    "        # Image Binarisation\n",
    "        image = np.where(image >= 75, 1, 0)\n",
    "        \n",
    "        # save the features and labels as the dataset\n",
    "        data.append(image)\n",
    "        labels.append(label)"
   ]
  },
  {
   "cell_type": "code",
   "execution_count": 3,
   "id": "d33d2d2e",
   "metadata": {},
   "outputs": [
    {
     "name": "stdout",
     "output_type": "stream",
     "text": [
      "Data shape: (51893, 28, 28)\n",
      "Labels shape: (51893,)\n",
      "['0' '0' '0' ... 'Z' 'Z' 'Z']\n"
     ]
    }
   ],
   "source": [
    "# convert data type to numpy\n",
    "data = np.array(data) \n",
    "labels = np.array(labels) \n",
    "print(f\"Data shape: {data.shape}\")\n",
    "print(f\"Labels shape: {labels.shape}\")\n",
    "print(labels)"
   ]
  },
  {
   "cell_type": "code",
   "execution_count": 4,
   "id": "89a85376-6346-47e9-924b-807ea97a1f36",
   "metadata": {},
   "outputs": [
    {
     "name": "stdout",
     "output_type": "stream",
     "text": [
      "'0': 0\n",
      "'1': 1\n",
      "'2': 2\n",
      "'3': 3\n",
      "'4': 4\n",
      "'5': 5\n",
      "'6': 6\n",
      "'7': 7\n",
      "'8': 8\n",
      "'9': 9\n",
      "'A': 10\n",
      "'B': 11\n",
      "'C': 12\n",
      "'D': 13\n",
      "'E': 14\n",
      "'F': 15\n",
      "'G': 16\n",
      "'H': 17\n",
      "'J': 18\n",
      "'K': 19\n",
      "'L': 20\n",
      "'M': 21\n",
      "'N': 22\n",
      "'P': 23\n",
      "'Q': 24\n",
      "'R': 25\n",
      "'S': 26\n",
      "'T': 27\n",
      "'U': 28\n",
      "'V': 29\n",
      "'W': 30\n",
      "'X': 31\n",
      "'Y': 32\n",
      "'Z': 33\n",
      "'藏': 34\n",
      "'川': 35\n",
      "'鄂': 36\n",
      "'甘': 37\n",
      "'赣': 38\n",
      "'贵': 39\n",
      "'桂': 40\n",
      "'黑': 41\n",
      "'沪': 42\n",
      "'吉': 43\n",
      "'冀': 44\n",
      "'津': 45\n",
      "'晋': 46\n",
      "'京': 47\n",
      "'辽': 48\n",
      "'鲁': 49\n",
      "'蒙': 50\n",
      "'闽': 51\n",
      "'宁': 52\n",
      "'青': 53\n",
      "'琼': 54\n",
      "'陕': 55\n",
      "'苏': 56\n",
      "'皖': 57\n",
      "'湘': 58\n",
      "'新': 59\n",
      "'渝': 60\n",
      "'豫': 61\n",
      "'粤': 62\n",
      "'云': 63\n",
      "'浙': 64\n",
      "[ 0  0  0 ... 33 33 33]\n"
     ]
    }
   ],
   "source": [
    "# encode the labels, create dictionary \n",
    "chars = [\n",
    "    '0','1','2','3','4','5','6','7','8','9',\n",
    "    'A','B','C','D','E','F','G','H','J','K','L','M','N','P','Q','R','S','T','U','V','W','X','Y','Z',\n",
    "    '藏','川','鄂','甘','赣','贵','桂','黑','沪','吉','冀','津','晋','京','辽','鲁','蒙','闽','宁',\n",
    "    '青','琼','陕','苏','皖','湘','新','渝','豫','粤','云','浙'\n",
    "]\n",
    "\n",
    "# chars to numbers\n",
    "chars_mapping = {char: idx for idx, char in enumerate(chars)}\n",
    "for char, idx in chars_mapping.items():\n",
    "    print(f\"'{char}': {idx}\")\n",
    "\n",
    "encoded_labels = [chars_mapping[label] for label in labels]\n",
    "encoded_labels = np.array(encoded_labels)\n",
    "\n",
    "# numbers to chars\n",
    "inverse_chars_mapping = {idx: char for char, idx in chars_mapping.items()}\n",
    "print(encoded_labels)\n"
   ]
  },
  {
   "cell_type": "code",
   "execution_count": 5,
   "id": "db92f7ca",
   "metadata": {},
   "outputs": [],
   "source": [
    "# train_test dataset split\n",
    "X_train, X_test, Y_train, Y_test = train_test_split(data, encoded_labels, test_size=0.2, random_state=42, shuffle=True, stratify=labels)\n"
   ]
  },
  {
   "cell_type": "code",
   "execution_count": 6,
   "id": "a8dce76f",
   "metadata": {},
   "outputs": [],
   "source": [
    "# Train on GPU\n",
    "#from PyTsetlinMachineCUDA.tm import MultiClassConvolutionalTsetlinMachine2D\n",
    "#tm = MultiClassConvolutionalTsetlinMachine2D(500, 100, 5.0, (5, 5), max_weight=10)\n",
    "\n",
    "# Trian on CPU\n",
    "from pyTsetlinMachine.tm import MultiClassConvolutionalTsetlinMachine2D\n",
    "tm = MultiClassConvolutionalTsetlinMachine2D(600, 300, 5.0, (10, 10), weighted_clauses=True)\n",
    "\n"
   ]
  },
  {
   "cell_type": "code",
   "execution_count": 7,
   "id": "e16cae23",
   "metadata": {},
   "outputs": [
    {
     "name": "stdout",
     "output_type": "stream",
     "text": [
      "#1 Time: 63.78s\n",
      "#2 Time: 65.58s\n",
      "#3 Time: 65.81s\n",
      "#4 Time: 65.97s\n",
      "#5 Time: 65.90s\n",
      "#6 Time: 66.03s\n",
      "#7 Time: 66.16s\n",
      "#8 Time: 66.28s\n",
      "#9 Time: 66.32s\n",
      "#10 Time: 66.34s\n",
      "#10 Accuracy: 97.33% (66.34s)\n"
     ]
    }
   ],
   "source": [
    "for i in range(10):\n",
    "    start = time()\n",
    "    tm.fit(X_train, Y_train, epochs=1, incremental=True)\n",
    "    stop = time()\n",
    "    print(\"#%d Time: %.2fs\" % (i+1, stop-start))   \n",
    "    #result = 100*(tm.predict(X_test) == Y_test).mean()\n",
    "    #print(\"#%d Accuracy: %.2f%% (%.2fs)\" % (i+1, result, stop-start))\n",
    "result = 100*(tm.predict(X_test) == Y_test).mean()\n",
    "print(\"#%d Accuracy: %.2f%% (%.2fs)\" % (i+1, result, stop-start))"
   ]
  },
  {
   "cell_type": "code",
   "execution_count": 8,
   "id": "66273691",
   "metadata": {},
   "outputs": [],
   "source": [
    "# save and load test\n",
    "with open('TM.pkl', 'wb') as f:\n",
    "    pickle.dump(tm, f)\n",
    "\n",
    "with open('TM.pkl', 'rb') as f:\n",
    "    tm = pickle.load(f)\n",
    "\n"
   ]
  },
  {
   "cell_type": "code",
   "execution_count": 9,
   "id": "7580e831",
   "metadata": {},
   "outputs": [
    {
     "name": "stdout",
     "output_type": "stream",
     "text": [
      "[62 18  7  2 18 20 18 18 18 20 18 18 18 20 18 20 18 20 18 20 18 20 18 20\n",
      " 18 18 20 18]\n",
      "Predicted character: 粤\n"
     ]
    }
   ],
   "source": [
    "# load test image\n",
    "image_path = './test_char/t9.png'\n",
    "\n",
    "# same preprocessing as training\n",
    "sample_image = cv2.imread(image_path, cv2.IMREAD_GRAYSCALE)\n",
    "sample_image = cv2.resize(sample_image, (28, 28))\n",
    "sample_image = np.where(sample_image >= 75, 1, 0)\n",
    "#import matplotlib.pyplot as plt\n",
    "#plt.imshow(sample_image, cmap='gray')\n",
    "\n",
    "# prediction\n",
    "predicted_label = tm.predict(sample_image) \n",
    "print(predicted_label)\n",
    "\n",
    "# numbers to chars\n",
    "predicted_char = inverse_chars_mapping[predicted_label[0]]\n",
    "print(f'Predicted character: {predicted_char}')\n"
   ]
  }
 ],
 "metadata": {
  "kernelspec": {
   "display_name": "ta3cuda",
   "language": "python",
   "name": "ta3cuda"
  },
  "language_info": {
   "codemirror_mode": {
    "name": "ipython",
    "version": 3
   },
   "file_extension": ".py",
   "mimetype": "text/x-python",
   "name": "python",
   "nbconvert_exporter": "python",
   "pygments_lexer": "ipython3",
   "version": "3.8.19"
  }
 },
 "nbformat": 4,
 "nbformat_minor": 5
}
